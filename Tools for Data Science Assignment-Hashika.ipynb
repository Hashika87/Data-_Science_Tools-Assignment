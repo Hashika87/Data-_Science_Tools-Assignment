{
  "metadata": {
    "kernelspec": {
      "name": "python",
      "display_name": "Python (Pyodide)",
      "language": "python"
    },
    "language_info": {
      "codemirror_mode": {
        "name": "python",
        "version": 3
      },
      "file_extension": ".py",
      "mimetype": "text/x-python",
      "name": "python",
      "nbconvert_exporter": "python",
      "pygments_lexer": "ipython3",
      "version": "3.8"
    }
  },
  "nbformat_minor": 4,
  "nbformat": 4,
  "cells": [
    {
      "cell_type": "markdown",
      "source": "# Tools for Data Science",
      "metadata": {}
    },
    {
      "cell_type": "markdown",
      "source": "## Introduction",
      "metadata": {}
    },
    {
      "cell_type": "markdown",
      "source": "### Data science languages\n1. Python\n2. R\n3. Java\n4. Scala\n5. SQL\n6. Julia",
      "metadata": {}
    },
    {
      "cell_type": "markdown",
      "source": "### Data science libraries\n1. Python Libraries\n   - Pandas\n   - NumPy\n   - Scikit-Learn\n   - Keras\n   - TensorFlow\n   - PyTorch\n2. Scala Libraries\n   - Vegas\n   - BigDL\n3. R Libraries\n   - dplyr\n   - Stringr\n   - ggplot\n   - caret",
      "metadata": {}
    },
    {
      "cell_type": "markdown",
      "source": "|Data Science tools|\n|------------------|\n|Jupyter|\n|R Studio|\n|Watson Studio|\n",
      "metadata": {}
    },
    {
      "cell_type": "markdown",
      "source": "### Arithmetic expression examples\n- 45 * 23 = 1035\n- 1586 / 13 = 122.0\n- 48 -26 = 22\n- 87 + 456 = 543\n- (8 * 5) + 40 -10 = 70",
      "metadata": {}
    },
    {
      "cell_type": "code",
      "source": "(8 * 5) + 40 -10",
      "metadata": {
        "trusted": true
      },
      "outputs": [
        {
          "execution_count": 9,
          "output_type": "execute_result",
          "data": {
            "text/plain": "70"
          },
          "metadata": {}
        }
      ],
      "execution_count": 9
    },
    {
      "cell_type": "markdown",
      "source": "### Convert minutes to hours",
      "metadata": {}
    },
    {
      "cell_type": "code",
      "source": "600 / 60",
      "metadata": {
        "trusted": true
      },
      "outputs": [
        {
          "execution_count": 11,
          "output_type": "execute_result",
          "data": {
            "text/plain": "10.0"
          },
          "metadata": {}
        }
      ],
      "execution_count": 11
    },
    {
      "cell_type": "markdown",
      "source": "### Objectives\n- Data science languages\n- Data science libraries\n- Data Science tools\n- Arithmetic expression examples",
      "metadata": {}
    },
    {
      "cell_type": "markdown",
      "source": "## Author\nH M Hashika Shaman",
      "metadata": {}
    },
    {
      "cell_type": "code",
      "source": "",
      "metadata": {
        "trusted": true
      },
      "outputs": [],
      "execution_count": null
    }
  ]
}